{
  "cells": [
    {
      "cell_type": "markdown",
      "metadata": {
        "id": "fQcvdlwdimQb"
      },
      "source": [
        "**Оцінювання даної роботи буде ураховувати якість Вашого коду та текстових відповідей. При наявності ЛИШЕ коду , робота оцінюватися НЕ БУДЕ.**  \n",
        "\n",
        "**Оформлення текстових відповідей повинно проводитися в текстових комірках ноутбука з використанням синтаксису [LaTeX](https://en.wikibooks.org/wiki/LaTeX/Basics) для оформлення тексту та формул.**\n",
        "\n",
        "**Роботи ідентифіковані як ІДЕНТИЧНІ одразу отримують 0 балів.**\n",
        "\n",
        "**При реалізації завдань потрібно використовувати методи з бібліотеки numpy та pandas.**\n",
        "\n",
        "**Рішення з циклами будуть оцінені в 0 балів.**"
      ]
    },
    {
      "cell_type": "markdown",
      "metadata": {
        "id": "UfI7FZudfGwv"
      },
      "source": [
        "# I. NumPy."
      ]
    },
    {
      "cell_type": "markdown",
      "metadata": {
        "id": "XmA3PWg8fJxn"
      },
      "source": [
        "0. Імпортувати numpy загальноприйнятим способом."
      ]
    },
    {
      "cell_type": "code",
      "execution_count": 1,
      "metadata": {
        "id": "JUli5tR8eTXG"
      },
      "outputs": [],
      "source": [
        "import numpy as np\n"
      ]
    },
    {
      "cell_type": "markdown",
      "metadata": {
        "id": "fppWPwoFjTrl"
      },
      "source": [
        "1. Визначити список з оцінками студента(ки) за семестр. Використовуючи його, створити одновимірний масив numpy."
      ]
    },
    {
      "cell_type": "code",
      "execution_count": 2,
      "metadata": {
        "id": "cuvs9lNAjVoB"
      },
      "outputs": [
        {
          "name": "stdout",
          "output_type": "stream",
          "text": [
            "[85 90 78 92 88 76 95 89]\n"
          ]
        }
      ],
      "source": [
        "import numpy as np\n",
        "\n",
        "\n",
        "grades = [85, 90, 78, 92, 88, 76, 95, 89]\n",
        "\n",
        "grades_array = np.array(grades)\n",
        "\n",
        "print(grades_array)\n"
      ]
    },
    {
      "cell_type": "markdown",
      "metadata": {
        "id": "OGeLtAwcjcMB"
      },
      "source": [
        "2. Визначити список зі списками, де кожен рядок списку формально означає магазин, а кожна колонка - певний продукт (батон, яйця першої категорії, молоко та ковбаса), а елементами на пересічі є ціни на ці продукти відповідно. Використовуючи цей список, створити матрицю (двовимірний масив) numpy."
      ]
    },
    {
      "cell_type": "code",
      "execution_count": 3,
      "metadata": {
        "id": "zJ9kEAv5jcVo"
      },
      "outputs": [
        {
          "name": "stdout",
          "output_type": "stream",
          "text": [
            "[[ 12.5  35.   28.  150. ]\n",
            " [ 13.   34.5  30.  145. ]\n",
            " [ 11.8  36.   27.5 155. ]]\n"
          ]
        }
      ],
      "source": [
        "import numpy as np\n",
        "\n",
        "\n",
        "prices = [\n",
        "    [12.5, 35.0, 28.0, 150.0], \n",
        "    [13.0, 34.5, 30.0, 145.0], \n",
        "    [11.8, 36.0, 27.5, 155.0]  \n",
        "]\n",
        "\n",
        "prices_matrix = np.array(prices)\n",
        "\n",
        "print(prices_matrix)\n"
      ]
    },
    {
      "cell_type": "markdown",
      "metadata": {
        "id": "wK7wrEw2jcix"
      },
      "source": [
        "3. Отримайте тип даних значень з масивів завдань 2 та 3. Виведіть їх на екран."
      ]
    },
    {
      "cell_type": "code",
      "execution_count": 4,
      "metadata": {
        "id": "uDBL1x6vjcq9"
      },
      "outputs": [
        {
          "name": "stdout",
          "output_type": "stream",
          "text": [
            "int64\n",
            "float64\n"
          ]
        }
      ],
      "source": [
        "import numpy as np\n",
        "\n",
        "grades = [85, 90, 78, 92, 88, 76, 95, 89]\n",
        "grades_array = np.array(grades)\n",
        "\n",
        "prices = [\n",
        "    [12.5, 35.0, 28.0, 150.0],\n",
        "    [13.0, 34.5, 30.0, 145.0],\n",
        "    [11.8, 36.0, 27.5, 155.0]\n",
        "]\n",
        "prices_matrix = np.array(prices)\n",
        "\n",
        "print(grades_array.dtype)\n",
        "print( prices_matrix.dtype)\n"
      ]
    },
    {
      "cell_type": "markdown",
      "metadata": {
        "id": "nNhAgsC3jcyp"
      },
      "source": [
        "4. Отримайте форми (кортеж з кількістю рядків та колонок) масивів завдань 2 та 3. Виведіть їх на екран."
      ]
    },
    {
      "cell_type": "code",
      "execution_count": 5,
      "metadata": {
        "id": "Fi5oXTI8jc4-"
      },
      "outputs": [
        {
          "name": "stdout",
          "output_type": "stream",
          "text": [
            "(8,)\n",
            "(3, 4)\n"
          ]
        }
      ],
      "source": [
        "import numpy as np\n",
        "\n",
        "grades = [85, 90, 78, 92, 88, 76, 95, 89]\n",
        "grades_array = np.array(grades)\n",
        "\n",
        "prices = [\n",
        "    [12.5, 35.0, 28.0, 150.0],\n",
        "    [13.0, 34.5, 30.0, 145.0],\n",
        "    [11.8, 36.0, 27.5, 155.0]\n",
        "]\n",
        "prices_matrix = np.array(prices)\n",
        "\n",
        "print(grades_array.shape)\n",
        "print(prices_matrix.shape)\n"
      ]
    },
    {
      "cell_type": "markdown",
      "metadata": {
        "id": "bpY-N8QZjdW-"
      },
      "source": [
        "5. Створіть одновимірний масив за допомогою спеціальної функції numpy, який би відображав динаміку стабільно зростаючого (з рівними проміжками) прибутку з продажів  за тиждень, де у перший день не було продажів, а в останній день тижня вдалося заробити 1000 грн 50 коп."
      ]
    },
    {
      "cell_type": "code",
      "execution_count": 6,
      "metadata": {
        "id": "r3LcjnUKjdeu"
      },
      "outputs": [
        {
          "name": "stdout",
          "output_type": "stream",
          "text": [
            "[   0.    166.75  333.5   500.25  667.    833.75 1000.5 ]\n"
          ]
        }
      ],
      "source": [
        "import numpy as np\n",
        "\n",
        "days = 7\n",
        "\n",
        "start_profit = 0\n",
        "end_profit = 1000.50\n",
        "\n",
        "profit_array = np.linspace(start_profit, end_profit, days)\n",
        "\n",
        "print(profit_array)\n"
      ]
    },
    {
      "cell_type": "markdown",
      "metadata": {
        "id": "zQM0SY9jjebO"
      },
      "source": [
        "6. Створіть два масиви. Використовуючи їх, продемонструйте відмінність вертикального та горизонтального обʼєднання масивів."
      ]
    },
    {
      "cell_type": "code",
      "execution_count": 7,
      "metadata": {
        "id": "8uoi0_lxjeh-"
      },
      "outputs": [
        {
          "name": "stdout",
          "output_type": "stream",
          "text": [
            "[[1 2 3]\n",
            " [4 5 6]]\n",
            "[[ 7  8  9]\n",
            " [10 11 12]]\n",
            "[[ 1  2  3  7  8  9]\n",
            " [ 4  5  6 10 11 12]]\n",
            "[[ 1  2  3]\n",
            " [ 4  5  6]\n",
            " [ 7  8  9]\n",
            " [10 11 12]]\n"
          ]
        }
      ],
      "source": [
        "import numpy as np\n",
        "\n",
        "array1 = np.array([[1, 2, 3], [4, 5, 6]])\n",
        "array2 = np.array([[7, 8, 9], [10, 11, 12]])\n",
        "\n",
        "horizontal_stack = np.hstack((array1, array2))\n",
        "\n",
        "vertical_stack = np.vstack((array1, array2))\n",
        "\n",
        "print(array1)\n",
        "print(array2)\n",
        "print(horizontal_stack)\n",
        "print(vertical_stack)\n"
      ]
    },
    {
      "cell_type": "markdown",
      "metadata": {
        "id": "Fwh5D1pDm3t7"
      },
      "source": [
        "7. Визначити функцію, яка приймає на вході масив і транспонує його. Скористайтесь методом reshape. І не забудьте почати з docstrings."
      ]
    },
    {
      "cell_type": "code",
      "execution_count": 8,
      "metadata": {
        "id": "FSWZq0mkm31Z"
      },
      "outputs": [
        {
          "name": "stdout",
          "output_type": "stream",
          "text": [
            "[[1 2 3]\n",
            " [4 5 6]]\n",
            "[[1 2]\n",
            " [3 4]\n",
            " [5 6]]\n"
          ]
        }
      ],
      "source": [
        "import numpy as np\n",
        "\n",
        "def transpose_array(arr):\n",
        "\n",
        "    return arr.reshape(arr.shape[1], arr.shape[0])\n",
        "\n",
        "matrix = np.array([[1, 2, 3], [4, 5, 6]])\n",
        "transposed_matrix = transpose_array(matrix)\n",
        "\n",
        "print(matrix)\n",
        "print(transposed_matrix)\n"
      ]
    },
    {
      "cell_type": "markdown",
      "metadata": {
        "id": "Nnxk8vqYm379"
      },
      "source": [
        "8. Створіть два масиви. Використовучи ці масиви, продемонструйте 1) операцію по-елементного додавання, 2) операцію по-елементного віднімання, 3) множення масиву на число, 4) операцію по-елементного множення, і 5) матричного множення."
      ]
    },
    {
      "cell_type": "code",
      "execution_count": 9,
      "metadata": {
        "id": "qO1rfvmVm4BI"
      },
      "outputs": [
        {
          "name": "stdout",
          "output_type": "stream",
          "text": [
            "[[1 2]\n",
            " [3 4]]\n",
            "[[5 6]\n",
            " [7 8]]\n",
            "[[ 6  8]\n",
            " [10 12]]\n",
            "[[-4 -4]\n",
            " [-4 -4]]\n",
            "[[2 4]\n",
            " [6 8]]\n",
            "[[ 5 12]\n",
            " [21 32]]\n",
            "[[19 22]\n",
            " [43 50]]\n"
          ]
        }
      ],
      "source": [
        "import numpy as np\n",
        "\n",
        "array1 = np.array([[1, 2], [3, 4]])\n",
        "array2 = np.array([[5, 6], [7, 8]])\n",
        "\n",
        "addition = array1 + array2\n",
        "\n",
        "subtraction = array1 - array2\n",
        "\n",
        "scalar_multiplication = array1 * 2\n",
        "\n",
        "elementwise_multiplication = array1 * array2\n",
        "\n",
        "matrix_multiplication = np.dot(array1, array2)\n",
        "\n",
        "print(array1)\n",
        "print(array2)\n",
        "\n",
        "print (addition)\n",
        "print(subtraction)\n",
        "print(scalar_multiplication)\n",
        "print(elementwise_multiplication)\n",
        "print(matrix_multiplication)\n"
      ]
    },
    {
      "cell_type": "markdown",
      "metadata": {
        "id": "7aGdszTGuMCC"
      },
      "source": [
        "9. Створіть двовимірний масив (матрицю) та розрахуйте: 1) мінімальне число, 2) максимальне число, 3) суму чисел, 4) мінімальні числа для кожного рядка, 5) максимальні числа для кожного стовпчика."
      ]
    },
    {
      "cell_type": "code",
      "execution_count": 10,
      "metadata": {
        "id": "RL_39YdauMKS"
      },
      "outputs": [
        {
          "name": "stdout",
          "output_type": "stream",
          "text": [
            "[[10 25  3]\n",
            " [ 7 15 30]\n",
            " [22  5 18]]\n",
            "3\n",
            "30\n",
            "135\n",
            "[3 7 5]\n",
            "[22 25 30]\n"
          ]
        }
      ],
      "source": [
        "import numpy as np\n",
        "\n",
        "matrix = np.array([\n",
        "    [10, 25, 3],\n",
        "    [7, 15, 30],\n",
        "    [22, 5, 18]\n",
        "])\n",
        "\n",
        "min_value = np.min(matrix)\n",
        "\n",
        "max_value = np.max(matrix)\n",
        "\n",
        "sum_values = np.sum(matrix)\n",
        "\n",
        "row_min_values = np.min(matrix, axis=1)\n",
        "\n",
        "col_max_values = np.max(matrix, axis=0)\n",
        "\n",
        "print(matrix)\n",
        "print(min_value)\n",
        "print(max_value)\n",
        "print(sum_values)\n",
        "print(row_min_values)\n",
        "print(col_max_values)\n"
      ]
    },
    {
      "cell_type": "markdown",
      "metadata": {
        "id": "c_hNdOpjHRFo"
      },
      "source": [
        "10. Створіть матрицю , де деякі елементи повторюються. Знайдіть унікальні значення елементів цієї матриці та їхні частоти."
      ]
    },
    {
      "cell_type": "code",
      "execution_count": 11,
      "metadata": {},
      "outputs": [
        {
          "name": "stdout",
          "output_type": "stream",
          "text": [
            "Матриця:\n",
            " [[1 2 3]\n",
            " [4 2 1]\n",
            " [3 5 1]]\n",
            "\n",
            "Унікальні значення: [1 2 3 4 5]\n",
            "Частоти відповідних значень: [3 2 2 1 1]\n"
          ]
        }
      ],
      "source": [
        "import numpy as np\n",
        "\n",
        "matrix = np.array([\n",
        "    [1, 2, 3],\n",
        "    [4, 2, 1],\n",
        "    [3, 5, 1]\n",
        "])\n",
        "\n",
        "unique_values, frequencies = np.unique(matrix, return_counts=True)\n",
        "\n",
        "print(\"Матриця:\\n\", matrix)\n",
        "print(\"\\nУнікальні значення:\", unique_values)\n",
        "print(\"Частоти відповідних значень:\", frequencies)\n"
      ]
    },
    {
      "cell_type": "markdown",
      "metadata": {
        "id": "Usj7tyjnprEV"
      },
      "source": [
        "# II. Importing. Creating DF"
      ]
    },
    {
      "cell_type": "markdown",
      "metadata": {
        "id": "ePGNrYa6pxRY"
      },
      "source": [
        "0. Імпортувати бібліотеку pandas"
      ]
    },
    {
      "cell_type": "code",
      "execution_count": 12,
      "metadata": {
        "id": "KIPDNBqQpvkI"
      },
      "outputs": [],
      "source": [
        "import pandas as pd"
      ]
    },
    {
      "cell_type": "markdown",
      "metadata": {
        "id": "8g9-hgi5qWJv"
      },
      "source": [
        "11. Створити тестовий датафрейм зі списку, що містить записи пацієнтів про їхні прізвища, імена, дату народження, масу тіла та наявність медичного страхування. Одне зі значень зробить пустим. Ознайомтесь з типом кожної колонки."
      ]
    },
    {
      "cell_type": "code",
      "execution_count": 13,
      "metadata": {
        "id": "OvA4GvJ5qYb1"
      },
      "outputs": [
        {
          "name": "stdout",
          "output_type": "stream",
          "text": [
            "DataFrame:\n",
            "    last_name first_name  birth_date  weight  insurance\n",
            "0      Ivanov       Ivan  1990-01-01    75.0       True\n",
            "1     Petrova      Petra  1985-02-15    65.0      False\n",
            "2     Sidorov      Sidor  1992-03-10     NaN       True\n",
            "3  Kuznetsova     Ksenia  1988-07-20    70.0       True\n",
            "\n",
            "Типи даних у кожній колонці:\n",
            "last_name      object\n",
            "first_name     object\n",
            "birth_date     object\n",
            "weight        float64\n",
            "insurance        bool\n",
            "dtype: object\n"
          ]
        }
      ],
      "source": [
        "import pandas as pd\n",
        "\n",
        "data = [\n",
        "    {'last_name': 'Ivanov', 'first_name': 'Ivan', 'birth_date': '1990-01-01', 'weight': 75, 'insurance': True},\n",
        "    {'last_name': 'Petrova', 'first_name': 'Petra', 'birth_date': '1985-02-15', 'weight': 65, 'insurance': False},\n",
        "    {'last_name': 'Sidorov', 'first_name': 'Sidor', 'birth_date': '1992-03-10', 'weight': None, 'insurance': True},  \n",
        "    {'last_name': 'Kuznetsova', 'first_name': 'Ksenia', 'birth_date': '1988-07-20', 'weight': 70, 'insurance': True}\n",
        "]\n",
        "\n",
        "df = pd.DataFrame(data)\n",
        "\n",
        "print(\"DataFrame:\")\n",
        "print(df)\n",
        "\n",
        "print(\"\\nТипи даних у кожній колонці:\")\n",
        "print(df.dtypes)\n"
      ]
    },
    {
      "cell_type": "markdown",
      "metadata": {
        "id": "b1SvVHjjqcv-"
      },
      "source": [
        "# III. Reading from file"
      ]
    },
    {
      "cell_type": "markdown",
      "metadata": {
        "id": "7HhZWLs_qhgq"
      },
      "source": [
        "12. Завантажити файл missile_attacks_daily.csv з [Kaggle](https://www.kaggle.com/datasets/piterfm/massive-missile-attacks-on-ukraine?select=missile_attacks_daily.csv). Ознайомитись з описом датасету. Додати файл до папки поточної сесії colab notebook на панелі ліворуч або на гугл диск (локально до проєкту, якщо працюєте у пайчармі). Зчитати датафрейм з файлу та вивести датафрейм на екран. Зверніть увагу на те, щоб всі колонки відповідали наведеним у описі типам даних."
      ]
    },
    {
      "cell_type": "code",
      "execution_count": 1,
      "metadata": {
        "id": "oQcB3kIqqg0h"
      },
      "outputs": [
        {
          "name": "stdout",
          "output_type": "stream",
          "text": [
            "         time_start          time_end             model  \\\n",
            "0  2025-02-22 19:00  2025-02-23 08:00    Shahed-136/131   \n",
            "1  2025-02-22 19:00  2025-02-23 08:00  Iskander-M/KN-23   \n",
            "2  2025-02-21 19:00  2025-02-22 08:00    Shahed-136/131   \n",
            "3        2025-02-22        2025-02-22            Молнія   \n",
            "4        2025-02-22        2025-02-22            Lancet   \n",
            "\n",
            "                                        launch_place   target carrier  \\\n",
            "0  Primorsko-Akhtarsk and Chauda, Crimea and Kurs...  Ukraine     NaN   \n",
            "1                                             Crimea  Ukraine     NaN   \n",
            "2  Primorsko-Akhtarsk and Kursk oblast and Bryans...  Ukraine     NaN   \n",
            "3                                                NaN    south     NaN   \n",
            "4                                                NaN    south     NaN   \n",
            "\n",
            "   launched  destroyed  not_reach_goal  cross_border_belarus  back_russia  \\\n",
            "0     267.0      138.0           115.0                   1.0          3.0   \n",
            "1       3.0        0.0             NaN                   NaN          NaN   \n",
            "2     162.0       82.0            75.0                   NaN          NaN   \n",
            "3       1.0        1.0             NaN                   NaN          NaN   \n",
            "4       1.0        1.0             NaN                   NaN          NaN   \n",
            "\n",
            "   still_attacking                                    affected region  \\\n",
            "0              NaN  ['Kyiv oblast', 'Poltava oblast', 'Odesa oblas...   \n",
            "1              NaN                                                NaN   \n",
            "2              NaN  ['Kyiv oblast', 'Kharkiv oblast', 'Kirovohrad ...   \n",
            "3              NaN                                                NaN   \n",
            "4              NaN                                                NaN   \n",
            "\n",
            "                                   destroyed_details launched_details  \\\n",
            "0  {'Odesa oblast and Mykolaiv oblast': 18, 'Khme...              NaN   \n",
            "1                                                NaN              NaN   \n",
            "2  {'Mykolaiv oblast and Kherson oblast': 5, 'Vin...              NaN   \n",
            "3                                                NaN              NaN   \n",
            "4                                                NaN              NaN   \n",
            "\n",
            "  launch_place_details                                             source  \n",
            "0                  NaN  kpszsu/posts/pfbid02ftbW6i4jAQ4ytmwzahSr7H3xRA...  \n",
            "1                  NaN  kpszsu/posts/pfbid02ftbW6i4jAQ4ytmwzahSr7H3xRA...  \n",
            "2                  NaN  kpszsu/posts/pfbid0388YfzcmjExPNRPvDZ15JGsWUYc...  \n",
            "3                  NaN  PvKPivden/posts/pfbid02XZT4a77n4CE95i3WXHNpve3...  \n",
            "4                  NaN  PvKPivden/posts/pfbid02XZT4a77n4CE95i3WXHNpve3...  \n",
            "time_start               object\n",
            "time_end                 object\n",
            "model                    object\n",
            "launch_place             object\n",
            "target                   object\n",
            "carrier                  object\n",
            "launched                float64\n",
            "destroyed               float64\n",
            "not_reach_goal          float64\n",
            "cross_border_belarus    float64\n",
            "back_russia             float64\n",
            "still_attacking         float64\n",
            "affected region          object\n",
            "destroyed_details        object\n",
            "launched_details         object\n",
            "launch_place_details     object\n",
            "source                   object\n",
            "dtype: object\n"
          ]
        }
      ],
      "source": [
        "import pandas as pd \n",
        "\n",
        "df = pd.read_csv('missile_attacks_daily.csv')\n",
        "\n",
        "print(df.head())\n",
        "\n",
        "print(df.dtypes)\n"
      ]
    },
    {
      "cell_type": "markdown",
      "metadata": {
        "id": "89zu0WNErzd2"
      },
      "source": [
        "# IV. Data understanding"
      ]
    },
    {
      "cell_type": "markdown",
      "metadata": {
        "id": "LJqrTfHr2d1G"
      },
      "source": [
        "13. Виведіть на екран перші 10 рядків зчитаного датафрейму."
      ]
    },
    {
      "cell_type": "code",
      "execution_count": 2,
      "metadata": {
        "id": "GdVE9WYwr1sD"
      },
      "outputs": [
        {
          "name": "stdout",
          "output_type": "stream",
          "text": [
            "         time_start          time_end  \\\n",
            "0  2025-02-22 19:00  2025-02-23 08:00   \n",
            "1  2025-02-22 19:00  2025-02-23 08:00   \n",
            "2  2025-02-21 19:00  2025-02-22 08:00   \n",
            "3        2025-02-22        2025-02-22   \n",
            "4        2025-02-22        2025-02-22   \n",
            "5  2025-02-20 19:00  2025-02-21 08:00   \n",
            "6  2025-02-20 19:00  2025-02-21 08:00   \n",
            "7        2025-02-21        2025-02-21   \n",
            "8        2025-02-21        2025-02-21   \n",
            "9        2025-02-20  2025-02-20 10:00   \n",
            "\n",
            "                                         model  \\\n",
            "0                               Shahed-136/131   \n",
            "1                             Iskander-M/KN-23   \n",
            "2                               Shahed-136/131   \n",
            "3                                       Молнія   \n",
            "4                                       Lancet   \n",
            "5                               Shahed-136/131   \n",
            "6                             Iskander-M/KN-23   \n",
            "7                                         ZALA   \n",
            "8                                     Supercam   \n",
            "9  X-101/X-555 and Kalibr and Iskander-M/KN-23   \n",
            "\n",
            "                                        launch_place          target carrier  \\\n",
            "0  Primorsko-Akhtarsk and Chauda, Crimea and Kurs...         Ukraine     NaN   \n",
            "1                                             Crimea         Ukraine     NaN   \n",
            "2  Primorsko-Akhtarsk and Kursk oblast and Bryans...         Ukraine     NaN   \n",
            "3                                                NaN           south     NaN   \n",
            "4                                                NaN           south     NaN   \n",
            "5  Kursk oblast and Bryansk oblast and Oryol obla...         Ukraine     NaN   \n",
            "6                                             Crimea    Odesa oblast     NaN   \n",
            "7                                                NaN           south     NaN   \n",
            "8                                                NaN           south     NaN   \n",
            "9                                                NaN  Kharkiv oblast     NaN   \n",
            "\n",
            "   launched  destroyed  not_reach_goal  cross_border_belarus  back_russia  \\\n",
            "0     267.0      138.0           115.0                   1.0          3.0   \n",
            "1       3.0        0.0             NaN                   NaN          NaN   \n",
            "2     162.0       82.0            75.0                   NaN          NaN   \n",
            "3       1.0        1.0             NaN                   NaN          NaN   \n",
            "4       1.0        1.0             NaN                   NaN          NaN   \n",
            "5     160.0       87.0            70.0                   NaN          NaN   \n",
            "6       2.0        0.0             NaN                   NaN          NaN   \n",
            "7       1.0        1.0             NaN                   NaN          NaN   \n",
            "8       2.0        2.0             NaN                   NaN          NaN   \n",
            "9      14.0        NaN             NaN                   NaN          NaN   \n",
            "\n",
            "   still_attacking                                    affected region  \\\n",
            "0              NaN  ['Kyiv oblast', 'Poltava oblast', 'Odesa oblas...   \n",
            "1              NaN                                                NaN   \n",
            "2              NaN  ['Kyiv oblast', 'Kharkiv oblast', 'Kirovohrad ...   \n",
            "3              NaN                                                NaN   \n",
            "4              NaN                                                NaN   \n",
            "5              NaN  ['Kyiv oblast', 'Poltava oblast', 'Kharkiv obl...   \n",
            "6              NaN                                                NaN   \n",
            "7              NaN                                                NaN   \n",
            "8              NaN                                                NaN   \n",
            "9              NaN                                                NaN   \n",
            "\n",
            "                                   destroyed_details launched_details  \\\n",
            "0  {'Odesa oblast and Mykolaiv oblast': 18, 'Khme...              NaN   \n",
            "1                                                NaN              NaN   \n",
            "2  {'Mykolaiv oblast and Kherson oblast': 5, 'Vin...              NaN   \n",
            "3                                                NaN              NaN   \n",
            "4                                                NaN              NaN   \n",
            "5  {'Mykolaiv oblast and Kherson oblast': 5, 'Vin...              NaN   \n",
            "6                                                NaN              NaN   \n",
            "7                                                NaN              NaN   \n",
            "8                                                NaN              NaN   \n",
            "9                                                NaN              NaN   \n",
            "\n",
            "                                launch_place_details  \\\n",
            "0                                                NaN   \n",
            "1                                                NaN   \n",
            "2                                                NaN   \n",
            "3                                                NaN   \n",
            "4                                                NaN   \n",
            "5                                                NaN   \n",
            "6                                                NaN   \n",
            "7                                                NaN   \n",
            "8                                                NaN   \n",
            "9  {'X-101/X-555': 'Volgograd oblast', 'Kalibr': ...   \n",
            "\n",
            "                                              source  \n",
            "0  kpszsu/posts/pfbid02ftbW6i4jAQ4ytmwzahSr7H3xRA...  \n",
            "1  kpszsu/posts/pfbid02ftbW6i4jAQ4ytmwzahSr7H3xRA...  \n",
            "2  kpszsu/posts/pfbid0388YfzcmjExPNRPvDZ15JGsWUYc...  \n",
            "3  PvKPivden/posts/pfbid02XZT4a77n4CE95i3WXHNpve3...  \n",
            "4  PvKPivden/posts/pfbid02XZT4a77n4CE95i3WXHNpve3...  \n",
            "5  kpszsu/posts/pfbid02WdcEYV7arPHjupnohWktHu9pCt...  \n",
            "6  kpszsu/posts/pfbid02WdcEYV7arPHjupnohWktHu9pCt...  \n",
            "7  PvKPivden/posts/pfbid02TGn54AJkUgAKpmogQyZhoyq...  \n",
            "8  PvKPivden/posts/pfbid02TGn54AJkUgAKpmogQyZhoyq...  \n",
            "9  kpszsu/posts/pfbid0NViFUkAUxYKgX5Uoc5kbYfLRALi...  \n"
          ]
        }
      ],
      "source": [
        "import pandas as pd\n",
        "\n",
        "df = pd.read_csv('missile_attacks_daily.csv')\n",
        "\n",
        "print(df.head(10))\n"
      ]
    },
    {
      "cell_type": "markdown",
      "metadata": {
        "id": "1PtkLHWj2lq0"
      },
      "source": [
        "14. Отримайте інформацію про форму датафрейму."
      ]
    },
    {
      "cell_type": "code",
      "execution_count": 3,
      "metadata": {
        "id": "CBPTYTjV2mtG"
      },
      "outputs": [
        {
          "name": "stdout",
          "output_type": "stream",
          "text": [
            "(2155, 17)\n"
          ]
        }
      ],
      "source": [
        "import pandas as pd\n",
        "\n",
        "df = pd.read_csv('missile_attacks_daily.csv')\n",
        "\n",
        "print(df.shape)\n"
      ]
    },
    {
      "cell_type": "markdown",
      "metadata": {
        "id": "GDVcFC6F2yVz"
      },
      "source": [
        "15. Отримайте дані про кожну колонку з її назвою, типом даних та кількістю непустих значень."
      ]
    },
    {
      "cell_type": "code",
      "execution_count": 4,
      "metadata": {
        "id": "GTRgfKJ920bn"
      },
      "outputs": [
        {
          "name": "stdout",
          "output_type": "stream",
          "text": [
            "<class 'pandas.core.frame.DataFrame'>\n",
            "RangeIndex: 2155 entries, 0 to 2154\n",
            "Data columns (total 17 columns):\n",
            " #   Column                Non-Null Count  Dtype  \n",
            "---  ------                --------------  -----  \n",
            " 0   time_start            2155 non-null   object \n",
            " 1   time_end              2155 non-null   object \n",
            " 2   model                 2155 non-null   object \n",
            " 3   launch_place          1082 non-null   object \n",
            " 4   target                2127 non-null   object \n",
            " 5   carrier               229 non-null    object \n",
            " 6   launched              2152 non-null   float64\n",
            " 7   destroyed             2149 non-null   float64\n",
            " 8   not_reach_goal        195 non-null    float64\n",
            " 9   cross_border_belarus  34 non-null     float64\n",
            " 10  back_russia           36 non-null     float64\n",
            " 11  still_attacking       32 non-null     float64\n",
            " 12  affected region       27 non-null     object \n",
            " 13  destroyed_details     329 non-null    object \n",
            " 14  launched_details      4 non-null      object \n",
            " 15  launch_place_details  5 non-null      object \n",
            " 16  source                2155 non-null   object \n",
            "dtypes: float64(6), object(11)\n",
            "memory usage: 286.3+ KB\n"
          ]
        }
      ],
      "source": [
        "import pandas as pd\n",
        "\n",
        "df = pd.read_csv('missile_attacks_daily.csv')\n",
        "\n",
        "df.info()\n"
      ]
    },
    {
      "cell_type": "markdown",
      "metadata": {
        "id": "DEy-hgsw2452"
      },
      "source": [
        "16. Отримайте статистику для колонок числового типу."
      ]
    },
    {
      "cell_type": "code",
      "execution_count": 5,
      "metadata": {
        "id": "94mI2N9t267Q"
      },
      "outputs": [
        {
          "name": "stdout",
          "output_type": "stream",
          "text": [
            "          launched    destroyed  not_reach_goal  cross_border_belarus  \\\n",
            "count  2152.000000  2149.000000      195.000000             34.000000   \n",
            "mean     12.037175     8.241508       24.846154              2.264706   \n",
            "std      25.138122    16.047237       22.513614              2.004674   \n",
            "min       1.000000     0.000000        1.000000              1.000000   \n",
            "25%       1.000000     1.000000        5.000000              1.000000   \n",
            "50%       2.000000     1.000000       19.000000              2.000000   \n",
            "75%       9.000000     7.000000       39.000000              2.000000   \n",
            "max     267.000000   138.000000      115.000000             10.000000   \n",
            "\n",
            "       back_russia  still_attacking  \n",
            "count    36.000000        32.000000  \n",
            "mean      2.027778         2.687500  \n",
            "std       1.133543         2.775904  \n",
            "min       1.000000         1.000000  \n",
            "25%       1.000000         1.000000  \n",
            "50%       2.000000         1.000000  \n",
            "75%       3.000000         3.250000  \n",
            "max       5.000000        10.000000  \n"
          ]
        }
      ],
      "source": [
        "import pandas as pd\n",
        "\n",
        "df = pd.read_csv('missile_attacks_daily.csv')\n",
        "\n",
        "print(df.describe())\n"
      ]
    },
    {
      "cell_type": "markdown",
      "metadata": {
        "id": "n0MGJU2C2-iD"
      },
      "source": [
        "17. Отримати кількість унікальних значень у кожній колонці. Вивести на екран значення та кількість цих значень у колонці, яка має найменше унікальних значень."
      ]
    },
    {
      "cell_type": "code",
      "execution_count": 6,
      "metadata": {
        "id": "lQh_jdGe3BK5"
      },
      "outputs": [
        {
          "name": "stdout",
          "output_type": "stream",
          "text": [
            "Колонка з найменшою кількістю унікальних значень: launched_details\n",
            "launched_details\n",
            "{'X-101/X-555': 50, 'Kalibr': 12}                     1\n",
            "{'X-101/X-555': 55, 'Kalibr': 24, 'Iskander-K': 7}    1\n",
            "{'X-101/X-555': 57, 'Kalibr': 28}                     1\n",
            "{'X-101/X-555': 77, 'Kalibr': 28, 'X-59/X-69': 10}    1\n",
            "Name: count, dtype: int64\n"
          ]
        }
      ],
      "source": [
        "import pandas as pd\n",
        "\n",
        "df = pd.read_csv('missile_attacks_daily.csv')\n",
        "\n",
        "unique_counts = df.nunique()\n",
        "\n",
        "column_with_fewest_unique = unique_counts.idxmin()\n",
        "\n",
        "value_counts = df[column_with_fewest_unique].value_counts()\n",
        "\n",
        "print(f\"Колонка з найменшою кількістю унікальних значень: {column_with_fewest_unique}\")\n",
        "print(value_counts)\n"
      ]
    },
    {
      "cell_type": "markdown",
      "metadata": {
        "id": "iVRkzUti3uC_"
      },
      "source": [
        "18. На основі отриманої інформації про датасет вище, опишіть по пунктах, що б ви виправили або на що б звернули увагу на кроці очищення даних і чому?"
      ]
    },
    {
      "cell_type": "code",
      "execution_count": null,
      "metadata": {},
      "outputs": [],
      "source": []
    },
    {
      "cell_type": "markdown",
      "metadata": {
        "id": "9_Q-Fcuo30zY"
      },
      "source": [
        "**місце для текстової відповіді**\n",
        "\n",
        "1.   Пункт списку\n",
        "2.   Пункт списку\n",
        "\n",
        "...\n"
      ]
    },
    {
      "cell_type": "markdown",
      "metadata": {
        "id": "Ue9ECz5-3_pq"
      },
      "source": [
        "# V. Data Cleaning"
      ]
    },
    {
      "cell_type": "markdown",
      "metadata": {
        "id": "ZtHUiSrV4CL-"
      },
      "source": [
        "19. Перетворити колонку launched у цілочислену (Int64). Перевірити, чи все пройшло, як очікувалось."
      ]
    },
    {
      "cell_type": "code",
      "execution_count": 8,
      "metadata": {
        "id": "AWyo_-Un3xqz"
      },
      "outputs": [
        {
          "name": "stdout",
          "output_type": "stream",
          "text": [
            "Int64\n",
            "0    267\n",
            "1      3\n",
            "2    162\n",
            "3      1\n",
            "4      1\n",
            "Name: launched, dtype: Int64\n"
          ]
        }
      ],
      "source": [
        "\n",
        "df['launched'] = df['launched'].astype('Int64')\n",
        "\n",
        "print(df['launched'].dtype)\n",
        "\n",
        "print(df['launched'].head())\n",
        "\n"
      ]
    },
    {
      "cell_type": "markdown",
      "metadata": {
        "id": "KsHhM4EM4O3d"
      },
      "source": [
        "20. Видалити колонки, де кількість непустих значень становить менше 30% від загальної кількості записів."
      ]
    },
    {
      "cell_type": "code",
      "execution_count": 9,
      "metadata": {
        "id": "Z1ZCclle4Vyk"
      },
      "outputs": [
        {
          "name": "stdout",
          "output_type": "stream",
          "text": [
            "<class 'pandas.core.frame.DataFrame'>\n",
            "RangeIndex: 2155 entries, 0 to 2154\n",
            "Data columns (total 8 columns):\n",
            " #   Column        Non-Null Count  Dtype  \n",
            "---  ------        --------------  -----  \n",
            " 0   time_start    2155 non-null   object \n",
            " 1   time_end      2155 non-null   object \n",
            " 2   model         2155 non-null   object \n",
            " 3   launch_place  1082 non-null   object \n",
            " 4   target        2127 non-null   object \n",
            " 5   launched      2152 non-null   Int64  \n",
            " 6   destroyed     2149 non-null   float64\n",
            " 7   source        2155 non-null   object \n",
            "dtypes: Int64(1), float64(1), object(6)\n",
            "memory usage: 136.9+ KB\n",
            "None\n"
          ]
        }
      ],
      "source": [
        "\n",
        "threshold = 0.3 * len(df) \n",
        "\n",
        "df_cleaned = df.dropna(thresh=threshold, axis=1)\n",
        "\n",
        "print(df_cleaned.info())\n"
      ]
    },
    {
      "cell_type": "markdown",
      "metadata": {
        "id": "p8cD0M0U4cNT"
      },
      "source": [
        "21. Очистити датафрейм від дублікатів (дублюючихся рядків) та записів, де атака продовжувалась відʼємну або нульову кількість часу (що фізично неможливо). Не забудьте оновити індекс. Скільки рядків було видалено? Як ви це перевірили у коді?"
      ]
    },
    {
      "cell_type": "code",
      "execution_count": 12,
      "metadata": {
        "id": "in3Fvn0I4l-I"
      },
      "outputs": [
        {
          "name": "stdout",
          "output_type": "stream",
          "text": [
            "Index(['time_start', 'time_end', 'model', 'launch_place', 'target', 'carrier',\n",
            "       'launched', 'destroyed', 'not_reach_goal', 'cross_border_belarus',\n",
            "       'back_russia', 'still_attacking', 'affected region',\n",
            "       'destroyed_details', 'launched_details', 'launch_place_details',\n",
            "       'source'],\n",
            "      dtype='object')\n",
            "Кількість видалених рядків: 1667\n",
            "<class 'pandas.core.frame.DataFrame'>\n",
            "RangeIndex: 488 entries, 0 to 487\n",
            "Data columns (total 18 columns):\n",
            " #   Column                Non-Null Count  Dtype         \n",
            "---  ------                --------------  -----         \n",
            " 0   time_start            488 non-null    datetime64[ns]\n",
            " 1   time_end              488 non-null    datetime64[ns]\n",
            " 2   model                 488 non-null    object        \n",
            " 3   launch_place          374 non-null    object        \n",
            " 4   target                479 non-null    object        \n",
            " 5   carrier               95 non-null     object        \n",
            " 6   launched              488 non-null    Int64         \n",
            " 7   destroyed             484 non-null    float64       \n",
            " 8   not_reach_goal        136 non-null    float64       \n",
            " 9   cross_border_belarus  30 non-null     float64       \n",
            " 10  back_russia           26 non-null     float64       \n",
            " 11  still_attacking       30 non-null     float64       \n",
            " 12  affected region       25 non-null     object        \n",
            " 13  destroyed_details     146 non-null    object        \n",
            " 14  launched_details      4 non-null      object        \n",
            " 15  launch_place_details  4 non-null      object        \n",
            " 16  source                488 non-null    object        \n",
            " 17  duration              488 non-null    float64       \n",
            "dtypes: Int64(1), datetime64[ns](2), float64(6), object(9)\n",
            "memory usage: 69.2+ KB\n",
            "None\n"
          ]
        }
      ],
      "source": [
        "\n",
        "print(df.columns)\n",
        "\n",
        "\n",
        "df['time_start'] = pd.to_datetime(df['time_start'], errors='coerce')\n",
        "df['time_end'] = pd.to_datetime(df['time_end'], errors='coerce')\n",
        "\n",
        "df['duration'] = (df['time_end'] - df['time_start']).dt.total_seconds() / 3600  \n",
        "\n",
        "df_cleaned = df.drop_duplicates()\n",
        "\n",
        "df_cleaned = df_cleaned[df_cleaned['duration'] > 0]\n",
        "\n",
        "df_cleaned.reset_index(drop=True, inplace=True)\n",
        "\n",
        "rows_deleted = len(df) - len(df_cleaned)\n",
        "print(f\"Кількість видалених рядків: {rows_deleted}\")\n",
        "\n",
        "print(df_cleaned.info())\n",
        "\n",
        "\n"
      ]
    },
    {
      "cell_type": "markdown",
      "metadata": {
        "id": "8zqL82Ie4nqY"
      },
      "source": [
        "**місце для текстової відповіді**"
      ]
    },
    {
      "cell_type": "code",
      "execution_count": null,
      "metadata": {
        "id": "GoHlOjXj4sIw"
      },
      "outputs": [],
      "source": []
    },
    {
      "cell_type": "markdown",
      "metadata": {
        "id": "6oZ7C_ry4uvb"
      },
      "source": [
        "22. Виведіть на екран всі рядки, де є хоч одне пропущене значення."
      ]
    },
    {
      "cell_type": "code",
      "execution_count": 13,
      "metadata": {
        "id": "BPmCTDtg4wVS"
      },
      "outputs": [
        {
          "data": {
            "text/html": [
              "<div>\n",
              "<style scoped>\n",
              "    .dataframe tbody tr th:only-of-type {\n",
              "        vertical-align: middle;\n",
              "    }\n",
              "\n",
              "    .dataframe tbody tr th {\n",
              "        vertical-align: top;\n",
              "    }\n",
              "\n",
              "    .dataframe thead th {\n",
              "        text-align: right;\n",
              "    }\n",
              "</style>\n",
              "<table border=\"1\" class=\"dataframe\">\n",
              "  <thead>\n",
              "    <tr style=\"text-align: right;\">\n",
              "      <th></th>\n",
              "      <th>time_start</th>\n",
              "      <th>time_end</th>\n",
              "      <th>model</th>\n",
              "      <th>launch_place</th>\n",
              "      <th>target</th>\n",
              "      <th>carrier</th>\n",
              "      <th>launched</th>\n",
              "      <th>destroyed</th>\n",
              "      <th>not_reach_goal</th>\n",
              "      <th>cross_border_belarus</th>\n",
              "      <th>back_russia</th>\n",
              "      <th>still_attacking</th>\n",
              "      <th>affected region</th>\n",
              "      <th>destroyed_details</th>\n",
              "      <th>launched_details</th>\n",
              "      <th>launch_place_details</th>\n",
              "      <th>source</th>\n",
              "      <th>duration</th>\n",
              "    </tr>\n",
              "  </thead>\n",
              "  <tbody>\n",
              "    <tr>\n",
              "      <th>0</th>\n",
              "      <td>2025-02-22 19:00:00</td>\n",
              "      <td>2025-02-23 08:00:00</td>\n",
              "      <td>Shahed-136/131</td>\n",
              "      <td>Primorsko-Akhtarsk and Chauda, Crimea and Kurs...</td>\n",
              "      <td>Ukraine</td>\n",
              "      <td>NaN</td>\n",
              "      <td>267</td>\n",
              "      <td>138.0</td>\n",
              "      <td>115.0</td>\n",
              "      <td>1.0</td>\n",
              "      <td>3.0</td>\n",
              "      <td>NaN</td>\n",
              "      <td>['Kyiv oblast', 'Poltava oblast', 'Odesa oblas...</td>\n",
              "      <td>{'Odesa oblast and Mykolaiv oblast': 18, 'Khme...</td>\n",
              "      <td>NaN</td>\n",
              "      <td>NaN</td>\n",
              "      <td>kpszsu/posts/pfbid02ftbW6i4jAQ4ytmwzahSr7H3xRA...</td>\n",
              "      <td>13.000000</td>\n",
              "    </tr>\n",
              "    <tr>\n",
              "      <th>1</th>\n",
              "      <td>2025-02-22 19:00:00</td>\n",
              "      <td>2025-02-23 08:00:00</td>\n",
              "      <td>Iskander-M/KN-23</td>\n",
              "      <td>Crimea</td>\n",
              "      <td>Ukraine</td>\n",
              "      <td>NaN</td>\n",
              "      <td>3</td>\n",
              "      <td>0.0</td>\n",
              "      <td>NaN</td>\n",
              "      <td>NaN</td>\n",
              "      <td>NaN</td>\n",
              "      <td>NaN</td>\n",
              "      <td>NaN</td>\n",
              "      <td>NaN</td>\n",
              "      <td>NaN</td>\n",
              "      <td>NaN</td>\n",
              "      <td>kpszsu/posts/pfbid02ftbW6i4jAQ4ytmwzahSr7H3xRA...</td>\n",
              "      <td>13.000000</td>\n",
              "    </tr>\n",
              "    <tr>\n",
              "      <th>2</th>\n",
              "      <td>2025-02-21 19:00:00</td>\n",
              "      <td>2025-02-22 08:00:00</td>\n",
              "      <td>Shahed-136/131</td>\n",
              "      <td>Primorsko-Akhtarsk and Kursk oblast and Bryans...</td>\n",
              "      <td>Ukraine</td>\n",
              "      <td>NaN</td>\n",
              "      <td>162</td>\n",
              "      <td>82.0</td>\n",
              "      <td>75.0</td>\n",
              "      <td>NaN</td>\n",
              "      <td>NaN</td>\n",
              "      <td>NaN</td>\n",
              "      <td>['Kyiv oblast', 'Kharkiv oblast', 'Kirovohrad ...</td>\n",
              "      <td>{'Mykolaiv oblast and Kherson oblast': 5, 'Vin...</td>\n",
              "      <td>NaN</td>\n",
              "      <td>NaN</td>\n",
              "      <td>kpszsu/posts/pfbid0388YfzcmjExPNRPvDZ15JGsWUYc...</td>\n",
              "      <td>13.000000</td>\n",
              "    </tr>\n",
              "    <tr>\n",
              "      <th>3</th>\n",
              "      <td>NaT</td>\n",
              "      <td>NaT</td>\n",
              "      <td>Молнія</td>\n",
              "      <td>NaN</td>\n",
              "      <td>south</td>\n",
              "      <td>NaN</td>\n",
              "      <td>1</td>\n",
              "      <td>1.0</td>\n",
              "      <td>NaN</td>\n",
              "      <td>NaN</td>\n",
              "      <td>NaN</td>\n",
              "      <td>NaN</td>\n",
              "      <td>NaN</td>\n",
              "      <td>NaN</td>\n",
              "      <td>NaN</td>\n",
              "      <td>NaN</td>\n",
              "      <td>PvKPivden/posts/pfbid02XZT4a77n4CE95i3WXHNpve3...</td>\n",
              "      <td>NaN</td>\n",
              "    </tr>\n",
              "    <tr>\n",
              "      <th>4</th>\n",
              "      <td>NaT</td>\n",
              "      <td>NaT</td>\n",
              "      <td>Lancet</td>\n",
              "      <td>NaN</td>\n",
              "      <td>south</td>\n",
              "      <td>NaN</td>\n",
              "      <td>1</td>\n",
              "      <td>1.0</td>\n",
              "      <td>NaN</td>\n",
              "      <td>NaN</td>\n",
              "      <td>NaN</td>\n",
              "      <td>NaN</td>\n",
              "      <td>NaN</td>\n",
              "      <td>NaN</td>\n",
              "      <td>NaN</td>\n",
              "      <td>NaN</td>\n",
              "      <td>PvKPivden/posts/pfbid02XZT4a77n4CE95i3WXHNpve3...</td>\n",
              "      <td>NaN</td>\n",
              "    </tr>\n",
              "    <tr>\n",
              "      <th>...</th>\n",
              "      <td>...</td>\n",
              "      <td>...</td>\n",
              "      <td>...</td>\n",
              "      <td>...</td>\n",
              "      <td>...</td>\n",
              "      <td>...</td>\n",
              "      <td>...</td>\n",
              "      <td>...</td>\n",
              "      <td>...</td>\n",
              "      <td>...</td>\n",
              "      <td>...</td>\n",
              "      <td>...</td>\n",
              "      <td>...</td>\n",
              "      <td>...</td>\n",
              "      <td>...</td>\n",
              "      <td>...</td>\n",
              "      <td>...</td>\n",
              "      <td>...</td>\n",
              "    </tr>\n",
              "    <tr>\n",
              "      <th>2150</th>\n",
              "      <td>2022-10-01 12:00:00</td>\n",
              "      <td>2022-10-01 12:00:00</td>\n",
              "      <td>Orlan-10</td>\n",
              "      <td>NaN</td>\n",
              "      <td>Ukraine</td>\n",
              "      <td>NaN</td>\n",
              "      <td>1</td>\n",
              "      <td>1.0</td>\n",
              "      <td>NaN</td>\n",
              "      <td>NaN</td>\n",
              "      <td>NaN</td>\n",
              "      <td>NaN</td>\n",
              "      <td>NaN</td>\n",
              "      <td>NaN</td>\n",
              "      <td>NaN</td>\n",
              "      <td>NaN</td>\n",
              "      <td>watch/?v=375517448001233</td>\n",
              "      <td>0.000000</td>\n",
              "    </tr>\n",
              "    <tr>\n",
              "      <th>2151</th>\n",
              "      <td>NaT</td>\n",
              "      <td>NaT</td>\n",
              "      <td>Orlan-10</td>\n",
              "      <td>NaN</td>\n",
              "      <td>Ukraine</td>\n",
              "      <td>NaN</td>\n",
              "      <td>3</td>\n",
              "      <td>3.0</td>\n",
              "      <td>NaN</td>\n",
              "      <td>NaN</td>\n",
              "      <td>NaN</td>\n",
              "      <td>NaN</td>\n",
              "      <td>NaN</td>\n",
              "      <td>NaN</td>\n",
              "      <td>NaN</td>\n",
              "      <td>NaN</td>\n",
              "      <td>kpszsu/posts/pfbid0nELeXY4BpHrezv54Lk3gWPZJmcC...</td>\n",
              "      <td>NaN</td>\n",
              "    </tr>\n",
              "    <tr>\n",
              "      <th>2152</th>\n",
              "      <td>2022-09-29 23:00:00</td>\n",
              "      <td>2022-09-29 23:59:00</td>\n",
              "      <td>Shahed-136/131</td>\n",
              "      <td>NaN</td>\n",
              "      <td>Odesa oblast and Mykolaiv oblast</td>\n",
              "      <td>NaN</td>\n",
              "      <td>7</td>\n",
              "      <td>5.0</td>\n",
              "      <td>NaN</td>\n",
              "      <td>NaN</td>\n",
              "      <td>NaN</td>\n",
              "      <td>NaN</td>\n",
              "      <td>NaN</td>\n",
              "      <td>NaN</td>\n",
              "      <td>NaN</td>\n",
              "      <td>NaN</td>\n",
              "      <td>kpszsu/posts/pfbid021aK2TqryAuB8gGrDYMTv3R8Xiu...</td>\n",
              "      <td>0.983333</td>\n",
              "    </tr>\n",
              "    <tr>\n",
              "      <th>2153</th>\n",
              "      <td>NaT</td>\n",
              "      <td>NaT</td>\n",
              "      <td>X-59</td>\n",
              "      <td>NaN</td>\n",
              "      <td>Dnipropetrovsk oblast and Zaporizhzhia oblast</td>\n",
              "      <td>Su-35</td>\n",
              "      <td>5</td>\n",
              "      <td>4.0</td>\n",
              "      <td>NaN</td>\n",
              "      <td>NaN</td>\n",
              "      <td>NaN</td>\n",
              "      <td>NaN</td>\n",
              "      <td>NaN</td>\n",
              "      <td>NaN</td>\n",
              "      <td>NaN</td>\n",
              "      <td>NaN</td>\n",
              "      <td>kpszsu/posts/pfbid02sjn5m7kosAfsm5bSUzpPwbLuH3...</td>\n",
              "      <td>NaN</td>\n",
              "    </tr>\n",
              "    <tr>\n",
              "      <th>2154</th>\n",
              "      <td>NaT</td>\n",
              "      <td>NaT</td>\n",
              "      <td>Reconnaissance UAV</td>\n",
              "      <td>NaN</td>\n",
              "      <td>Ukraine</td>\n",
              "      <td>NaN</td>\n",
              "      <td>3</td>\n",
              "      <td>3.0</td>\n",
              "      <td>NaN</td>\n",
              "      <td>NaN</td>\n",
              "      <td>NaN</td>\n",
              "      <td>NaN</td>\n",
              "      <td>NaN</td>\n",
              "      <td>NaN</td>\n",
              "      <td>NaN</td>\n",
              "      <td>NaN</td>\n",
              "      <td>kpszsu/posts/pfbid0grmBx6A5LbQ7PVTkSx7jTDgg4iU...</td>\n",
              "      <td>NaN</td>\n",
              "    </tr>\n",
              "  </tbody>\n",
              "</table>\n",
              "<p>2155 rows × 18 columns</p>\n",
              "</div>"
            ],
            "text/plain": [
              "              time_start            time_end               model  \\\n",
              "0    2025-02-22 19:00:00 2025-02-23 08:00:00      Shahed-136/131   \n",
              "1    2025-02-22 19:00:00 2025-02-23 08:00:00    Iskander-M/KN-23   \n",
              "2    2025-02-21 19:00:00 2025-02-22 08:00:00      Shahed-136/131   \n",
              "3                    NaT                 NaT              Молнія   \n",
              "4                    NaT                 NaT              Lancet   \n",
              "...                  ...                 ...                 ...   \n",
              "2150 2022-10-01 12:00:00 2022-10-01 12:00:00            Orlan-10   \n",
              "2151                 NaT                 NaT            Orlan-10   \n",
              "2152 2022-09-29 23:00:00 2022-09-29 23:59:00      Shahed-136/131   \n",
              "2153                 NaT                 NaT                X-59   \n",
              "2154                 NaT                 NaT  Reconnaissance UAV   \n",
              "\n",
              "                                           launch_place  \\\n",
              "0     Primorsko-Akhtarsk and Chauda, Crimea and Kurs...   \n",
              "1                                                Crimea   \n",
              "2     Primorsko-Akhtarsk and Kursk oblast and Bryans...   \n",
              "3                                                   NaN   \n",
              "4                                                   NaN   \n",
              "...                                                 ...   \n",
              "2150                                                NaN   \n",
              "2151                                                NaN   \n",
              "2152                                                NaN   \n",
              "2153                                                NaN   \n",
              "2154                                                NaN   \n",
              "\n",
              "                                             target carrier  launched  \\\n",
              "0                                           Ukraine     NaN       267   \n",
              "1                                           Ukraine     NaN         3   \n",
              "2                                           Ukraine     NaN       162   \n",
              "3                                             south     NaN         1   \n",
              "4                                             south     NaN         1   \n",
              "...                                             ...     ...       ...   \n",
              "2150                                        Ukraine     NaN         1   \n",
              "2151                                        Ukraine     NaN         3   \n",
              "2152               Odesa oblast and Mykolaiv oblast     NaN         7   \n",
              "2153  Dnipropetrovsk oblast and Zaporizhzhia oblast   Su-35         5   \n",
              "2154                                        Ukraine     NaN         3   \n",
              "\n",
              "      destroyed  not_reach_goal  cross_border_belarus  back_russia  \\\n",
              "0         138.0           115.0                   1.0          3.0   \n",
              "1           0.0             NaN                   NaN          NaN   \n",
              "2          82.0            75.0                   NaN          NaN   \n",
              "3           1.0             NaN                   NaN          NaN   \n",
              "4           1.0             NaN                   NaN          NaN   \n",
              "...         ...             ...                   ...          ...   \n",
              "2150        1.0             NaN                   NaN          NaN   \n",
              "2151        3.0             NaN                   NaN          NaN   \n",
              "2152        5.0             NaN                   NaN          NaN   \n",
              "2153        4.0             NaN                   NaN          NaN   \n",
              "2154        3.0             NaN                   NaN          NaN   \n",
              "\n",
              "      still_attacking                                    affected region  \\\n",
              "0                 NaN  ['Kyiv oblast', 'Poltava oblast', 'Odesa oblas...   \n",
              "1                 NaN                                                NaN   \n",
              "2                 NaN  ['Kyiv oblast', 'Kharkiv oblast', 'Kirovohrad ...   \n",
              "3                 NaN                                                NaN   \n",
              "4                 NaN                                                NaN   \n",
              "...               ...                                                ...   \n",
              "2150              NaN                                                NaN   \n",
              "2151              NaN                                                NaN   \n",
              "2152              NaN                                                NaN   \n",
              "2153              NaN                                                NaN   \n",
              "2154              NaN                                                NaN   \n",
              "\n",
              "                                      destroyed_details launched_details  \\\n",
              "0     {'Odesa oblast and Mykolaiv oblast': 18, 'Khme...              NaN   \n",
              "1                                                   NaN              NaN   \n",
              "2     {'Mykolaiv oblast and Kherson oblast': 5, 'Vin...              NaN   \n",
              "3                                                   NaN              NaN   \n",
              "4                                                   NaN              NaN   \n",
              "...                                                 ...              ...   \n",
              "2150                                                NaN              NaN   \n",
              "2151                                                NaN              NaN   \n",
              "2152                                                NaN              NaN   \n",
              "2153                                                NaN              NaN   \n",
              "2154                                                NaN              NaN   \n",
              "\n",
              "     launch_place_details                                             source  \\\n",
              "0                     NaN  kpszsu/posts/pfbid02ftbW6i4jAQ4ytmwzahSr7H3xRA...   \n",
              "1                     NaN  kpszsu/posts/pfbid02ftbW6i4jAQ4ytmwzahSr7H3xRA...   \n",
              "2                     NaN  kpszsu/posts/pfbid0388YfzcmjExPNRPvDZ15JGsWUYc...   \n",
              "3                     NaN  PvKPivden/posts/pfbid02XZT4a77n4CE95i3WXHNpve3...   \n",
              "4                     NaN  PvKPivden/posts/pfbid02XZT4a77n4CE95i3WXHNpve3...   \n",
              "...                   ...                                                ...   \n",
              "2150                  NaN                           watch/?v=375517448001233   \n",
              "2151                  NaN  kpszsu/posts/pfbid0nELeXY4BpHrezv54Lk3gWPZJmcC...   \n",
              "2152                  NaN  kpszsu/posts/pfbid021aK2TqryAuB8gGrDYMTv3R8Xiu...   \n",
              "2153                  NaN  kpszsu/posts/pfbid02sjn5m7kosAfsm5bSUzpPwbLuH3...   \n",
              "2154                  NaN  kpszsu/posts/pfbid0grmBx6A5LbQ7PVTkSx7jTDgg4iU...   \n",
              "\n",
              "       duration  \n",
              "0     13.000000  \n",
              "1     13.000000  \n",
              "2     13.000000  \n",
              "3           NaN  \n",
              "4           NaN  \n",
              "...         ...  \n",
              "2150   0.000000  \n",
              "2151        NaN  \n",
              "2152   0.983333  \n",
              "2153        NaN  \n",
              "2154        NaN  \n",
              "\n",
              "[2155 rows x 18 columns]"
            ]
          },
          "execution_count": 13,
          "metadata": {},
          "output_type": "execute_result"
        }
      ],
      "source": [
        "\n",
        "df[df.isnull().any(axis=1)]\n"
      ]
    }
  ],
  "metadata": {
    "colab": {
      "collapsed_sections": [
        "dwSyU2AjXwc-"
      ],
      "provenance": []
    },
    "kernelspec": {
      "display_name": "Python 3",
      "name": "python3"
    },
    "language_info": {
      "codemirror_mode": {
        "name": "ipython",
        "version": 3
      },
      "file_extension": ".py",
      "mimetype": "text/x-python",
      "name": "python",
      "nbconvert_exporter": "python",
      "pygments_lexer": "ipython3",
      "version": "3.9.6"
    }
  },
  "nbformat": 4,
  "nbformat_minor": 0
}
